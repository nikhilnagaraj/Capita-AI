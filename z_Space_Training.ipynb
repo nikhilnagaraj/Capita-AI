{
  "nbformat": 4,
  "nbformat_minor": 0,
  "metadata": {
    "colab": {
      "name": "z_Space_Training.ipynb",
      "provenance": [],
      "collapsed_sections": [],
      "machine_shape": "hm",
      "mount_file_id": "1s0FwGctDqPl4dWPybV-KK3K79XvRX7Er",
      "authorship_tag": "ABX9TyOjTA8FWd4dWgm129LAfFsS",
      "include_colab_link": true
    },
    "kernelspec": {
      "name": "python3",
      "display_name": "Python 3"
    },
    "accelerator": "TPU"
  },
  "cells": [
    {
      "cell_type": "markdown",
      "metadata": {
        "id": "view-in-github",
        "colab_type": "text"
      },
      "source": [
        "<a href=\"https://colab.research.google.com/github/nikhilnagaraj/Capita-AI/blob/master/z_Space_Training.ipynb\" target=\"_parent\"><img src=\"https://colab.research.google.com/assets/colab-badge.svg\" alt=\"Open In Colab\"/></a>"
      ]
    },
    {
      "cell_type": "markdown",
      "metadata": {
        "id": "QzVAanaCrHIO",
        "colab_type": "text"
      },
      "source": [
        "# Z-space Training\n",
        "\n",
        "This notebook trains MusicVAE over different latent space sizes and stores the models in their appropriate folders. These models must be used in the main notebook."
      ]
    },
    {
      "cell_type": "code",
      "metadata": {
        "id": "TSs1zP6RYtRw",
        "colab_type": "code",
        "outputId": "74c9ea74-39f8-4568-cee1-f0a43d92d5c7",
        "colab": {
          "base_uri": "https://localhost:8080/",
          "height": 34
        }
      },
      "source": [
        "%cd /content/drive/My\\ Drive"
      ],
      "execution_count": 0,
      "outputs": [
        {
          "output_type": "stream",
          "text": [
            "/content/drive/My Drive\n"
          ],
          "name": "stdout"
        }
      ]
    },
    {
      "cell_type": "code",
      "metadata": {
        "id": "t-n17xY3Adq6",
        "colab_type": "code",
        "outputId": "81fe6eee-a017-4ee6-d983-4f2afa5f0509",
        "colab": {
          "base_uri": "https://localhost:8080/",
          "height": 1000
        }
      },
      "source": [
        "!pip3 install magenta==1.2.2"
      ],
      "execution_count": 0,
      "outputs": [
        {
          "output_type": "stream",
          "text": [
            "Requirement already satisfied: magenta==1.2.2 in /usr/local/lib/python3.6/dist-packages (1.2.2)\n",
            "Requirement already satisfied: pygtrie>=2.3 in /usr/local/lib/python3.6/dist-packages (from magenta==1.2.2) (2.3.2)\n",
            "Requirement already satisfied: scipy>=0.18.1 in /usr/local/lib/python3.6/dist-packages (from magenta==1.2.2) (1.4.1)\n",
            "Requirement already satisfied: pandas>=0.18.1 in /usr/local/lib/python3.6/dist-packages (from magenta==1.2.2) (0.25.3)\n",
            "Requirement already satisfied: mido==1.2.6 in /usr/local/lib/python3.6/dist-packages (from magenta==1.2.2) (1.2.6)\n",
            "Requirement already satisfied: sox>=1.3.7 in /usr/local/lib/python3.6/dist-packages (from magenta==1.2.2) (1.3.7)\n",
            "Requirement already satisfied: tensor2tensor>=1.13.4 in /usr/local/lib/python3.6/dist-packages (from magenta==1.2.2) (1.15.4)\n",
            "Requirement already satisfied: gast==0.2.2 in /usr/local/lib/python3.6/dist-packages (from magenta==1.2.2) (0.2.2)\n",
            "Requirement already satisfied: intervaltree>=2.1.0 in /usr/local/lib/python3.6/dist-packages (from magenta==1.2.2) (2.1.0)\n",
            "Requirement already satisfied: tensorflow-datasets>=1.0.2 in /usr/local/lib/python3.6/dist-packages (from magenta==1.2.2) (2.1.0)\n",
            "Requirement already satisfied: tensorflow-probability==0.7.0 in /usr/local/lib/python3.6/dist-packages (from magenta==1.2.2) (0.7.0)\n",
            "Requirement already satisfied: sk-video in /usr/local/lib/python3.6/dist-packages (from magenta==1.2.2) (1.1.10)\n",
            "Requirement already satisfied: joblib>=0.12 in /usr/local/lib/python3.6/dist-packages (from magenta==1.2.2) (0.14.1)\n",
            "Requirement already satisfied: tensorflow<2.0.0,>=1.15.0 in /usr/local/lib/python3.6/dist-packages (from magenta==1.2.2) (1.15.2)\n",
            "Requirement already satisfied: pretty-midi>=0.2.6 in /usr/local/lib/python3.6/dist-packages (from magenta==1.2.2) (0.2.8)\n",
            "Requirement already satisfied: six>=1.12.0 in /usr/local/lib/python3.6/dist-packages (from magenta==1.2.2) (1.12.0)\n",
            "Requirement already satisfied: dm-sonnet<2.0.0 in /usr/local/lib/python3.6/dist-packages (from magenta==1.2.2) (1.36)\n",
            "Requirement already satisfied: absl-py in /usr/local/lib/python3.6/dist-packages (from magenta==1.2.2) (0.9.0)\n",
            "Requirement already satisfied: Pillow>=3.4.2 in /usr/local/lib/python3.6/dist-packages (from magenta==1.2.2) (7.0.0)\n",
            "Requirement already satisfied: mir-eval>=0.4 in /usr/local/lib/python3.6/dist-packages (from magenta==1.2.2) (0.5)\n",
            "Requirement already satisfied: matplotlib>=1.5.3 in /usr/local/lib/python3.6/dist-packages (from magenta==1.2.2) (3.2.1)\n",
            "Requirement already satisfied: apache-beam[gcp]>=2.14.0 in /usr/local/lib/python3.6/dist-packages (from magenta==1.2.2) (2.19.0)\n",
            "Requirement already satisfied: scikit-image in /usr/local/lib/python3.6/dist-packages (from magenta==1.2.2) (0.16.2)\n",
            "Requirement already satisfied: backports.tempfile in /usr/local/lib/python3.6/dist-packages (from magenta==1.2.2) (1.0)\n",
            "Requirement already satisfied: python-rtmidi<1.2,>=1.1 in /usr/local/lib/python3.6/dist-packages (from magenta==1.2.2) (1.1.2)\n",
            "Requirement already satisfied: numpy>=1.14.6 in /usr/local/lib/python3.6/dist-packages (from magenta==1.2.2) (1.18.2)\n",
            "Requirement already satisfied: bokeh>=0.12.0 in /usr/local/lib/python3.6/dist-packages (from magenta==1.2.2) (1.4.0)\n",
            "Requirement already satisfied: attrs in /usr/local/lib/python3.6/dist-packages (from magenta==1.2.2) (19.3.0)\n",
            "Requirement already satisfied: IPython in /usr/local/lib/python3.6/dist-packages (from magenta==1.2.2) (5.5.0)\n",
            "Requirement already satisfied: wheel in /usr/local/lib/python3.6/dist-packages (from magenta==1.2.2) (0.34.2)\n",
            "Requirement already satisfied: librosa>=0.6.2 in /usr/local/lib/python3.6/dist-packages (from magenta==1.2.2) (0.6.3)\n",
            "Requirement already satisfied: protobuf>=3.6.1 in /usr/local/lib/python3.6/dist-packages (from magenta==1.2.2) (3.10.0)\n",
            "Requirement already satisfied: pytz>=2017.2 in /usr/local/lib/python3.6/dist-packages (from pandas>=0.18.1->magenta==1.2.2) (2018.9)\n",
            "Requirement already satisfied: python-dateutil>=2.6.1 in /usr/local/lib/python3.6/dist-packages (from pandas>=0.18.1->magenta==1.2.2) (2.8.1)\n",
            "Requirement already satisfied: oauth2client in /usr/local/lib/python3.6/dist-packages (from tensor2tensor>=1.13.4->magenta==1.2.2) (3.0.0)\n",
            "Requirement already satisfied: tensorflow-gan in /usr/local/lib/python3.6/dist-packages (from tensor2tensor>=1.13.4->magenta==1.2.2) (2.0.0)\n",
            "Requirement already satisfied: bz2file in /usr/local/lib/python3.6/dist-packages (from tensor2tensor>=1.13.4->magenta==1.2.2) (0.98)\n",
            "Requirement already satisfied: h5py in /usr/local/lib/python3.6/dist-packages (from tensor2tensor>=1.13.4->magenta==1.2.2) (2.10.0)\n",
            "Requirement already satisfied: mesh-tensorflow in /usr/local/lib/python3.6/dist-packages (from tensor2tensor>=1.13.4->magenta==1.2.2) (0.1.12)\n",
            "Requirement already satisfied: gevent in /usr/local/lib/python3.6/dist-packages (from tensor2tensor>=1.13.4->magenta==1.2.2) (1.4.0)\n",
            "Requirement already satisfied: dopamine-rl in /usr/local/lib/python3.6/dist-packages (from tensor2tensor>=1.13.4->magenta==1.2.2) (1.0.5)\n",
            "Requirement already satisfied: requests in /usr/local/lib/python3.6/dist-packages (from tensor2tensor>=1.13.4->magenta==1.2.2) (2.21.0)\n",
            "Requirement already satisfied: tqdm in /usr/local/lib/python3.6/dist-packages (from tensor2tensor>=1.13.4->magenta==1.2.2) (4.38.0)\n",
            "Requirement already satisfied: google-api-python-client in /usr/local/lib/python3.6/dist-packages (from tensor2tensor>=1.13.4->magenta==1.2.2) (1.7.12)\n",
            "Requirement already satisfied: future in /usr/local/lib/python3.6/dist-packages (from tensor2tensor>=1.13.4->magenta==1.2.2) (0.16.0)\n",
            "Requirement already satisfied: gym in /usr/local/lib/python3.6/dist-packages (from tensor2tensor>=1.13.4->magenta==1.2.2) (0.17.1)\n",
            "Requirement already satisfied: pypng in /usr/local/lib/python3.6/dist-packages (from tensor2tensor>=1.13.4->magenta==1.2.2) (0.0.20)\n",
            "Requirement already satisfied: gin-config in /usr/local/lib/python3.6/dist-packages (from tensor2tensor>=1.13.4->magenta==1.2.2) (0.3.0)\n",
            "Requirement already satisfied: gunicorn in /usr/local/lib/python3.6/dist-packages (from tensor2tensor>=1.13.4->magenta==1.2.2) (20.0.4)\n",
            "Requirement already satisfied: kfac in /usr/local/lib/python3.6/dist-packages (from tensor2tensor>=1.13.4->magenta==1.2.2) (0.2.0)\n",
            "Requirement already satisfied: opencv-python in /usr/local/lib/python3.6/dist-packages (from tensor2tensor>=1.13.4->magenta==1.2.2) (4.1.2.30)\n",
            "Requirement already satisfied: flask in /usr/local/lib/python3.6/dist-packages (from tensor2tensor>=1.13.4->magenta==1.2.2) (1.1.1)\n",
            "Requirement already satisfied: sympy in /usr/local/lib/python3.6/dist-packages (from tensor2tensor>=1.13.4->magenta==1.2.2) (1.1.1)\n",
            "Requirement already satisfied: sortedcontainers in /usr/local/lib/python3.6/dist-packages (from intervaltree>=2.1.0->magenta==1.2.2) (2.1.0)\n",
            "Requirement already satisfied: promise in /usr/local/lib/python3.6/dist-packages (from tensorflow-datasets>=1.0.2->magenta==1.2.2) (2.3)\n",
            "Requirement already satisfied: termcolor in /usr/local/lib/python3.6/dist-packages (from tensorflow-datasets>=1.0.2->magenta==1.2.2) (1.1.0)\n",
            "Requirement already satisfied: tensorflow-metadata in /usr/local/lib/python3.6/dist-packages (from tensorflow-datasets>=1.0.2->magenta==1.2.2) (0.21.1)\n",
            "Requirement already satisfied: wrapt in /usr/local/lib/python3.6/dist-packages (from tensorflow-datasets>=1.0.2->magenta==1.2.2) (1.12.1)\n",
            "Requirement already satisfied: dill in /usr/local/lib/python3.6/dist-packages (from tensorflow-datasets>=1.0.2->magenta==1.2.2) (0.3.1.1)\n",
            "Requirement already satisfied: cloudpickle>=0.6.1 in /usr/local/lib/python3.6/dist-packages (from tensorflow-probability==0.7.0->magenta==1.2.2) (1.3.0)\n",
            "Requirement already satisfied: decorator in /usr/local/lib/python3.6/dist-packages (from tensorflow-probability==0.7.0->magenta==1.2.2) (4.4.2)\n",
            "Requirement already satisfied: tensorboard<1.16.0,>=1.15.0 in /usr/local/lib/python3.6/dist-packages (from tensorflow<2.0.0,>=1.15.0->magenta==1.2.2) (1.15.0)\n",
            "Requirement already satisfied: tensorflow-estimator==1.15.1 in /usr/local/lib/python3.6/dist-packages (from tensorflow<2.0.0,>=1.15.0->magenta==1.2.2) (1.15.1)\n",
            "Requirement already satisfied: keras-applications>=1.0.8 in /usr/local/lib/python3.6/dist-packages (from tensorflow<2.0.0,>=1.15.0->magenta==1.2.2) (1.0.8)\n",
            "Requirement already satisfied: opt-einsum>=2.3.2 in /usr/local/lib/python3.6/dist-packages (from tensorflow<2.0.0,>=1.15.0->magenta==1.2.2) (3.2.0)\n",
            "Requirement already satisfied: astor>=0.6.0 in /usr/local/lib/python3.6/dist-packages (from tensorflow<2.0.0,>=1.15.0->magenta==1.2.2) (0.8.1)\n",
            "Requirement already satisfied: grpcio>=1.8.6 in /usr/local/lib/python3.6/dist-packages (from tensorflow<2.0.0,>=1.15.0->magenta==1.2.2) (1.27.2)\n",
            "Requirement already satisfied: keras-preprocessing>=1.0.5 in /usr/local/lib/python3.6/dist-packages (from tensorflow<2.0.0,>=1.15.0->magenta==1.2.2) (1.1.0)\n",
            "Requirement already satisfied: google-pasta>=0.1.6 in /usr/local/lib/python3.6/dist-packages (from tensorflow<2.0.0,>=1.15.0->magenta==1.2.2) (0.2.0)\n",
            "Requirement already satisfied: semantic-version in /usr/local/lib/python3.6/dist-packages (from dm-sonnet<2.0.0->magenta==1.2.2) (2.8.4)\n",
            "Requirement already satisfied: contextlib2 in /usr/local/lib/python3.6/dist-packages (from dm-sonnet<2.0.0->magenta==1.2.2) (0.5.5)\n",
            "Requirement already satisfied: cycler>=0.10 in /usr/local/lib/python3.6/dist-packages (from matplotlib>=1.5.3->magenta==1.2.2) (0.10.0)\n",
            "Requirement already satisfied: pyparsing!=2.0.4,!=2.1.2,!=2.1.6,>=2.0.1 in /usr/local/lib/python3.6/dist-packages (from matplotlib>=1.5.3->magenta==1.2.2) (2.4.6)\n",
            "Requirement already satisfied: kiwisolver>=1.0.1 in /usr/local/lib/python3.6/dist-packages (from matplotlib>=1.5.3->magenta==1.2.2) (1.1.0)\n",
            "Requirement already satisfied: typing-extensions<3.8.0,>=3.7.0; python_version < \"3.8.0\" in /usr/local/lib/python3.6/dist-packages (from apache-beam[gcp]>=2.14.0->magenta==1.2.2) (3.7.4.1)\n",
            "Requirement already satisfied: avro-python3<2.0.0,>=1.8.1; python_version >= \"3.0\" in /usr/local/lib/python3.6/dist-packages (from apache-beam[gcp]>=2.14.0->magenta==1.2.2) (1.9.2.1)\n",
            "Requirement already satisfied: pydot<2,>=1.2.0 in /usr/local/lib/python3.6/dist-packages (from apache-beam[gcp]>=2.14.0->magenta==1.2.2) (1.3.0)\n",
            "Requirement already satisfied: hdfs<3.0.0,>=2.1.0 in /usr/local/lib/python3.6/dist-packages (from apache-beam[gcp]>=2.14.0->magenta==1.2.2) (2.5.8)\n",
            "Requirement already satisfied: mock<3.0.0,>=1.0.1 in /usr/local/lib/python3.6/dist-packages (from apache-beam[gcp]>=2.14.0->magenta==1.2.2) (2.0.0)\n",
            "Requirement already satisfied: fastavro<0.22,>=0.21.4 in /usr/local/lib/python3.6/dist-packages (from apache-beam[gcp]>=2.14.0->magenta==1.2.2) (0.21.24)\n",
            "Requirement already satisfied: pyarrow<0.16.0,>=0.15.1; python_version >= \"3.0\" or platform_system != \"Windows\" in /usr/local/lib/python3.6/dist-packages (from apache-beam[gcp]>=2.14.0->magenta==1.2.2) (0.15.1)\n",
            "Requirement already satisfied: typing<3.8.0,>=3.7.0; python_version < \"3.8.0\" in /usr/local/lib/python3.6/dist-packages (from apache-beam[gcp]>=2.14.0->magenta==1.2.2) (3.7.4.1)\n",
            "Requirement already satisfied: pymongo<4.0.0,>=3.8.0 in /usr/local/lib/python3.6/dist-packages (from apache-beam[gcp]>=2.14.0->magenta==1.2.2) (3.10.1)\n",
            "Requirement already satisfied: crcmod<2.0,>=1.7 in /usr/local/lib/python3.6/dist-packages (from apache-beam[gcp]>=2.14.0->magenta==1.2.2) (1.7)\n",
            "Requirement already satisfied: httplib2<=0.12.0,>=0.8 in /usr/local/lib/python3.6/dist-packages (from apache-beam[gcp]>=2.14.0->magenta==1.2.2) (0.12.0)\n",
            "Requirement already satisfied: google-cloud-bigtable<1.1.0,>=0.31.1; extra == \"gcp\" in /usr/local/lib/python3.6/dist-packages (from apache-beam[gcp]>=2.14.0->magenta==1.2.2) (1.0.0)\n",
            "Requirement already satisfied: cachetools<4,>=3.1.0; extra == \"gcp\" in /usr/local/lib/python3.6/dist-packages (from apache-beam[gcp]>=2.14.0->magenta==1.2.2) (3.1.1)\n",
            "Requirement already satisfied: google-cloud-datastore<1.8.0,>=1.7.1; extra == \"gcp\" in /usr/local/lib/python3.6/dist-packages (from apache-beam[gcp]>=2.14.0->magenta==1.2.2) (1.7.4)\n",
            "Requirement already satisfied: google-cloud-pubsub<1.1.0,>=0.39.0; extra == \"gcp\" in /usr/local/lib/python3.6/dist-packages (from apache-beam[gcp]>=2.14.0->magenta==1.2.2) (1.0.2)\n",
            "Requirement already satisfied: google-apitools<0.5.29,>=0.5.28; extra == \"gcp\" in /usr/local/lib/python3.6/dist-packages (from apache-beam[gcp]>=2.14.0->magenta==1.2.2) (0.5.28)\n",
            "Requirement already satisfied: google-cloud-core<2,>=0.28.1; extra == \"gcp\" in /usr/local/lib/python3.6/dist-packages (from apache-beam[gcp]>=2.14.0->magenta==1.2.2) (1.0.3)\n",
            "Requirement already satisfied: google-cloud-bigquery<1.18.0,>=1.6.0; extra == \"gcp\" in /usr/local/lib/python3.6/dist-packages (from apache-beam[gcp]>=2.14.0->magenta==1.2.2) (1.17.1)\n",
            "Requirement already satisfied: imageio>=2.3.0 in /usr/local/lib/python3.6/dist-packages (from scikit-image->magenta==1.2.2) (2.4.1)\n",
            "Requirement already satisfied: networkx>=2.0 in /usr/local/lib/python3.6/dist-packages (from scikit-image->magenta==1.2.2) (2.4)\n",
            "Requirement already satisfied: PyWavelets>=0.4.0 in /usr/local/lib/python3.6/dist-packages (from scikit-image->magenta==1.2.2) (1.1.1)\n",
            "Requirement already satisfied: backports.weakref in /usr/local/lib/python3.6/dist-packages (from backports.tempfile->magenta==1.2.2) (1.0.post1)\n",
            "Requirement already satisfied: tornado>=4.3 in /usr/local/lib/python3.6/dist-packages (from bokeh>=0.12.0->magenta==1.2.2) (4.5.3)\n",
            "Requirement already satisfied: Jinja2>=2.7 in /usr/local/lib/python3.6/dist-packages (from bokeh>=0.12.0->magenta==1.2.2) (2.11.1)\n",
            "Requirement already satisfied: PyYAML>=3.10 in /usr/local/lib/python3.6/dist-packages (from bokeh>=0.12.0->magenta==1.2.2) (3.13)\n",
            "Requirement already satisfied: packaging>=16.8 in /usr/local/lib/python3.6/dist-packages (from bokeh>=0.12.0->magenta==1.2.2) (20.3)\n",
            "Requirement already satisfied: simplegeneric>0.8 in /usr/local/lib/python3.6/dist-packages (from IPython->magenta==1.2.2) (0.8.1)\n",
            "Requirement already satisfied: pygments in /usr/local/lib/python3.6/dist-packages (from IPython->magenta==1.2.2) (2.1.3)\n",
            "Requirement already satisfied: prompt-toolkit<2.0.0,>=1.0.4 in /usr/local/lib/python3.6/dist-packages (from IPython->magenta==1.2.2) (1.0.18)\n",
            "Requirement already satisfied: setuptools>=18.5 in /usr/local/lib/python3.6/dist-packages (from IPython->magenta==1.2.2) (46.0.0)\n",
            "Requirement already satisfied: traitlets>=4.2 in /usr/local/lib/python3.6/dist-packages (from IPython->magenta==1.2.2) (4.3.3)\n",
            "Requirement already satisfied: pickleshare in /usr/local/lib/python3.6/dist-packages (from IPython->magenta==1.2.2) (0.7.5)\n",
            "Requirement already satisfied: pexpect; sys_platform != \"win32\" in /usr/local/lib/python3.6/dist-packages (from IPython->magenta==1.2.2) (4.8.0)\n",
            "Requirement already satisfied: scikit-learn!=0.19.0,>=0.14.0 in /usr/local/lib/python3.6/dist-packages (from librosa>=0.6.2->magenta==1.2.2) (0.22.2.post1)\n",
            "Requirement already satisfied: resampy>=0.2.0 in /usr/local/lib/python3.6/dist-packages (from librosa>=0.6.2->magenta==1.2.2) (0.2.2)\n",
            "Requirement already satisfied: audioread>=2.0.0 in /usr/local/lib/python3.6/dist-packages (from librosa>=0.6.2->magenta==1.2.2) (2.1.8)\n",
            "Requirement already satisfied: numba>=0.38.0 in /usr/local/lib/python3.6/dist-packages (from librosa>=0.6.2->magenta==1.2.2) (0.47.0)\n",
            "Requirement already satisfied: rsa>=3.1.4 in /usr/local/lib/python3.6/dist-packages (from oauth2client->tensor2tensor>=1.13.4->magenta==1.2.2) (4.0)\n",
            "Requirement already satisfied: pyasn1-modules>=0.0.5 in /usr/local/lib/python3.6/dist-packages (from oauth2client->tensor2tensor>=1.13.4->magenta==1.2.2) (0.2.8)\n",
            "Requirement already satisfied: pyasn1>=0.1.7 in /usr/local/lib/python3.6/dist-packages (from oauth2client->tensor2tensor>=1.13.4->magenta==1.2.2) (0.4.8)\n",
            "Requirement already satisfied: tensorflow-hub>=0.2 in /usr/local/lib/python3.6/dist-packages (from tensorflow-gan->tensor2tensor>=1.13.4->magenta==1.2.2) (0.7.0)\n",
            "Requirement already satisfied: greenlet>=0.4.14; platform_python_implementation == \"CPython\" in /usr/local/lib/python3.6/dist-packages (from gevent->tensor2tensor>=1.13.4->magenta==1.2.2) (0.4.15)\n",
            "Requirement already satisfied: certifi>=2017.4.17 in /usr/local/lib/python3.6/dist-packages (from requests->tensor2tensor>=1.13.4->magenta==1.2.2) (2019.11.28)\n",
            "Requirement already satisfied: idna<2.9,>=2.5 in /usr/local/lib/python3.6/dist-packages (from requests->tensor2tensor>=1.13.4->magenta==1.2.2) (2.8)\n",
            "Requirement already satisfied: urllib3<1.25,>=1.21.1 in /usr/local/lib/python3.6/dist-packages (from requests->tensor2tensor>=1.13.4->magenta==1.2.2) (1.24.3)\n",
            "Requirement already satisfied: chardet<3.1.0,>=3.0.2 in /usr/local/lib/python3.6/dist-packages (from requests->tensor2tensor>=1.13.4->magenta==1.2.2) (3.0.4)\n",
            "Requirement already satisfied: google-auth>=1.4.1 in /usr/local/lib/python3.6/dist-packages (from google-api-python-client->tensor2tensor>=1.13.4->magenta==1.2.2) (1.7.2)\n",
            "Requirement already satisfied: uritemplate<4dev,>=3.0.0 in /usr/local/lib/python3.6/dist-packages (from google-api-python-client->tensor2tensor>=1.13.4->magenta==1.2.2) (3.0.1)\n",
            "Requirement already satisfied: google-auth-httplib2>=0.0.3 in /usr/local/lib/python3.6/dist-packages (from google-api-python-client->tensor2tensor>=1.13.4->magenta==1.2.2) (0.0.3)\n",
            "Requirement already satisfied: pyglet<=1.5.0,>=1.4.0 in /usr/local/lib/python3.6/dist-packages (from gym->tensor2tensor>=1.13.4->magenta==1.2.2) (1.5.0)\n",
            "Requirement already satisfied: itsdangerous>=0.24 in /usr/local/lib/python3.6/dist-packages (from flask->tensor2tensor>=1.13.4->magenta==1.2.2) (1.1.0)\n",
            "Requirement already satisfied: click>=5.1 in /usr/local/lib/python3.6/dist-packages (from flask->tensor2tensor>=1.13.4->magenta==1.2.2) (7.1.1)\n",
            "Requirement already satisfied: Werkzeug>=0.15 in /usr/local/lib/python3.6/dist-packages (from flask->tensor2tensor>=1.13.4->magenta==1.2.2) (1.0.0)\n",
            "Requirement already satisfied: mpmath>=0.19 in /usr/local/lib/python3.6/dist-packages (from sympy->tensor2tensor>=1.13.4->magenta==1.2.2) (1.1.0)\n",
            "Requirement already satisfied: googleapis-common-protos in /usr/local/lib/python3.6/dist-packages (from tensorflow-metadata->tensorflow-datasets>=1.0.2->magenta==1.2.2) (1.51.0)\n",
            "Requirement already satisfied: markdown>=2.6.8 in /usr/local/lib/python3.6/dist-packages (from tensorboard<1.16.0,>=1.15.0->tensorflow<2.0.0,>=1.15.0->magenta==1.2.2) (3.2.1)\n",
            "Requirement already satisfied: docopt in /usr/local/lib/python3.6/dist-packages (from hdfs<3.0.0,>=2.1.0->apache-beam[gcp]>=2.14.0->magenta==1.2.2) (0.6.2)\n",
            "Requirement already satisfied: pbr>=0.11 in /usr/local/lib/python3.6/dist-packages (from mock<3.0.0,>=1.0.1->apache-beam[gcp]>=2.14.0->magenta==1.2.2) (5.4.4)\n",
            "Requirement already satisfied: grpc-google-iam-v1<0.13dev,>=0.12.3 in /usr/local/lib/python3.6/dist-packages (from google-cloud-bigtable<1.1.0,>=0.31.1; extra == \"gcp\"->apache-beam[gcp]>=2.14.0->magenta==1.2.2) (0.12.3)\n",
            "Requirement already satisfied: google-api-core[grpc]<2.0.0dev,>=1.14.0 in /usr/local/lib/python3.6/dist-packages (from google-cloud-bigtable<1.1.0,>=0.31.1; extra == \"gcp\"->apache-beam[gcp]>=2.14.0->magenta==1.2.2) (1.16.0)\n",
            "Requirement already satisfied: fasteners>=0.14 in /usr/local/lib/python3.6/dist-packages (from google-apitools<0.5.29,>=0.5.28; extra == \"gcp\"->apache-beam[gcp]>=2.14.0->magenta==1.2.2) (0.15)\n",
            "Requirement already satisfied: google-resumable-media<0.5.0dev,>=0.3.1 in /usr/local/lib/python3.6/dist-packages (from google-cloud-bigquery<1.18.0,>=1.6.0; extra == \"gcp\"->apache-beam[gcp]>=2.14.0->magenta==1.2.2) (0.4.1)\n",
            "Requirement already satisfied: MarkupSafe>=0.23 in /usr/local/lib/python3.6/dist-packages (from Jinja2>=2.7->bokeh>=0.12.0->magenta==1.2.2) (1.1.1)\n",
            "Requirement already satisfied: wcwidth in /usr/local/lib/python3.6/dist-packages (from prompt-toolkit<2.0.0,>=1.0.4->IPython->magenta==1.2.2) (0.1.9)\n",
            "Requirement already satisfied: ipython-genutils in /usr/local/lib/python3.6/dist-packages (from traitlets>=4.2->IPython->magenta==1.2.2) (0.2.0)\n",
            "Requirement already satisfied: ptyprocess>=0.5 in /usr/local/lib/python3.6/dist-packages (from pexpect; sys_platform != \"win32\"->IPython->magenta==1.2.2) (0.6.0)\n",
            "Requirement already satisfied: llvmlite>=0.31.0dev0 in /usr/local/lib/python3.6/dist-packages (from numba>=0.38.0->librosa>=0.6.2->magenta==1.2.2) (0.31.0)\n",
            "Requirement already satisfied: monotonic>=0.1 in /usr/local/lib/python3.6/dist-packages (from fasteners>=0.14->google-apitools<0.5.29,>=0.5.28; extra == \"gcp\"->apache-beam[gcp]>=2.14.0->magenta==1.2.2) (1.5)\n"
          ],
          "name": "stdout"
        }
      ]
    },
    {
      "cell_type": "code",
      "metadata": {
        "id": "_0jId936q6x6",
        "colab_type": "code",
        "colab": {}
      },
      "source": [
        "!mkdir Replication256\n",
        "!mkdir Replication512\n",
        "!mkdir Replication1024"
      ],
      "execution_count": 0,
      "outputs": []
    },
    {
      "cell_type": "code",
      "metadata": {
        "id": "aiBaKNIYqt9k",
        "colab_type": "code",
        "colab": {}
      },
      "source": [
        "!python magenta/magenta/models/music_vae/music_vae_train.py \\\n",
        "--config=hierdec-mel_16bar \\\n",
        "--run_dir=Replication256/ \\\n",
        "--mode=train \\\n",
        "--examples_path=recordFile/lakhvgmidisequences.tfrecord \\\n",
        "--hparams=z_size=256,batch_size=128,learning_rate=0.0005 \\\n",
        "--checkpoints_to_keep=2"
      ],
      "execution_count": 0,
      "outputs": []
    },
    {
      "cell_type": "code",
      "metadata": {
        "id": "Q3wtRs7IYerp",
        "colab_type": "code",
        "colab": {}
      },
      "source": [
        "!python magenta/magenta/models/music_vae/music_vae_train.py \\\n",
        "--config=hierdec-mel_16bar \\\n",
        "--run_dir=Replication512/ \\\n",
        "--mode=train \\\n",
        "--examples_path=recordFile/lakhvgmidisequences.tfrecord \\\n",
        "--hparams=z_size=512,batch_size=128,learning_rate=0.0005 \\\n",
        "--checkpoints_to_keep=2"
      ],
      "execution_count": 0,
      "outputs": []
    },
    {
      "cell_type": "code",
      "metadata": {
        "id": "QhiFH6vAHlgE",
        "colab_type": "code",
        "colab": {}
      },
      "source": [
        "!python magenta/magenta/models/music_vae/music_vae_train.py \\\n",
        "--config=hierdec-mel_16bar \\\n",
        "--run_dir=Replication1024/ \\\n",
        "--mode=train \\\n",
        "--examples_path=recordFile/lakhvgmidisequences.tfrecord \\\n",
        "--hparams=z_size=1024,batch_size=128,learning_rate=0.0005 \\\n",
        "--checkpoints_to_keep=2"
      ],
      "execution_count": 0,
      "outputs": []
    }
  ]
}